{
  "nbformat": 4,
  "nbformat_minor": 0,
  "metadata": {
    "colab": {
      "provenance": []
    },
    "kernelspec": {
      "name": "python3",
      "display_name": "Python 3"
    },
    "language_info": {
      "name": "python"
    }
  },
  "cells": [
    {
      "cell_type": "code",
      "source": [
        "import numpy as np\n",
        "import pandas as pd\n",
        "import jax\n",
        "import jax.numpy as jnp"
      ],
      "metadata": {
        "id": "otJo63W6Cbni"
      },
      "execution_count": 2,
      "outputs": []
    },
    {
      "cell_type": "markdown",
      "source": [
        "Q12. Write a small piece of code to explain broadcasting in numpy."
      ],
      "metadata": {
        "id": "y8YldVbXKedD"
      }
    },
    {
      "cell_type": "code",
      "source": [
        "Vector_A = jnp.array([1,2,3,4,5])\n",
        "Vector_B = jnp.array([3])\n",
        "Vector_C = Vector_A + Vector_B\n",
        "print(Vector_C)\n",
        "print(f\"The shape of Vector A is {Vector_A.shape}, Vector B's shape is {Vector_B.shape} and their resultant shape is {Vector_C.shape}\")\n",
        "\n",
        "# Here despite the fact that Vector_A is a 1X5 dimension array still when added with an array of 1X1 dimension\n",
        "# it broadcasts the smaller array to the size of the larger array so that addition can take place to get final result as 5X1 array"
      ],
      "metadata": {
        "colab": {
          "base_uri": "https://localhost:8080/"
        },
        "id": "rcTOdfv6CEUU",
        "outputId": "5c70d228-527f-45d8-fdeb-41be176ca069"
      },
      "execution_count": 9,
      "outputs": [
        {
          "output_type": "stream",
          "name": "stdout",
          "text": [
            "[4 5 6 7 8]\n",
            "The shape of Vector A is (5,), Vector B's shape is (1,) and their resultant shape is (5,)\n"
          ]
        }
      ]
    },
    {
      "cell_type": "markdown",
      "source": [
        "Q13. Write a function to compute the argmin of a numpy array. The function should take a numpy array as input and return the index of the minimum element. You can use the np.argmin function to verify your solution."
      ],
      "metadata": {
        "id": "wSbCnXMvEp6p"
      }
    },
    {
      "cell_type": "code",
      "source": [
        "def argmin(array):\n",
        "  min_index=0\n",
        "  min_element=array[0]\n",
        "  for current_index in range(array.size):\n",
        "    if(min_element>array[current_index]):\n",
        "      min_element=array[current_index]\n",
        "      min_index=current_index\n",
        "  return min_index"
      ],
      "metadata": {
        "id": "O4wKVpMeEusM"
      },
      "execution_count": 12,
      "outputs": []
    },
    {
      "cell_type": "code",
      "source": [
        "a = jnp.array([2,3,41,0,10,3,-12])\n",
        "print(argmin(a),np.argmin(a))\n",
        "# The implementation done for the argmin function works perfectly as the result matches with the inbuilt function"
      ],
      "metadata": {
        "colab": {
          "base_uri": "https://localhost:8080/"
        },
        "id": "d3Er2Z_6FgUn",
        "outputId": "bcd8da41-38a3-4dc7-dd19-e3c014b8bb23"
      },
      "execution_count": 16,
      "outputs": [
        {
          "output_type": "stream",
          "name": "stdout",
          "text": [
            "6 6\n"
          ]
        }
      ]
    }
  ]
}