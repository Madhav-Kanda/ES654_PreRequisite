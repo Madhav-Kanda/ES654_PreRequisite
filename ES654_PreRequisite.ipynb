{
  "nbformat": 4,
  "nbformat_minor": 0,
  "metadata": {
    "colab": {
      "provenance": []
    },
    "kernelspec": {
      "name": "python3",
      "display_name": "Python 3"
    },
    "language_info": {
      "name": "python"
    }
  },
  "cells": [
    {
      "cell_type": "code",
      "source": [
        "import numpy as np\n",
        "import pandas as pd\n",
        "import jax\n",
        "import jax.numpy as jnp"
      ],
      "metadata": {
        "id": "otJo63W6Cbni"
      },
      "execution_count": 2,
      "outputs": []
    },
    {
      "cell_type": "markdown",
      "source": [
        "Q4. What is the gradient of the following function with respect to x and y?\n",
        "\n",
        "![image.png](data:image/png;base64,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)"
      ],
      "metadata": {
        "id": "k8aaA8z4HpR7"
      }
    },
    {
      "cell_type": "markdown",
      "source": [
        "Gradient with respect to x is given by: $2xy + y^3cos(x) $\n",
        "\n",
        "Gradient with respect to y is given by: $x^2 + 3y^2sin(x) $"
      ],
      "metadata": {
        "id": "b-de-9W9Hvh_"
      }
    },
    {
      "cell_type": "markdown",
      "source": [
        "Q5. Use JAX to confirm the gradient evaluated by your method matches the analytical solution corresponding to a few random values of x and y"
      ],
      "metadata": {
        "id": "aHzhSYVJJOzH"
      }
    },
    {
      "cell_type": "code",
      "source": [
        "# The function is defined below\n",
        "def func(x_y):\n",
        "  return (x_y[0]**2)*(x_y[1]) + (x_y[1]**3)*jnp.sin(x_y[0])\n",
        "\n",
        "\n",
        "x_y = jnp.array([jnp.pi, 2.0])   ## Initialising values for x and y as pi and 2 respectively\n",
        "\n",
        "\n",
        "grad_x = jax.grad(lambda *args: func(jnp.array(args)), argnums=0)    # Differentiating wrt x \n",
        "grad_y = jax.grad(lambda *args: func(jnp.array(args)), argnums=1)    # Differentiating wrt y \n",
        "print(f\"Gradient of function with respect to x is: {grad_x(*x_y)} and with respect to y is: {grad_y(*x_y)} [Using Jax]\")\n",
        "print(f\"Gradient of function with respect to x is: {(2*x_y[0]*x_y[1]+(x_y[1]**3)*(jnp.cos(x_y[0])))} and with respect to y is: {(x_y[0]**2+(3*(x_y[1]**2))*(jnp.sin(x_y[0])))} [By Manually putting values in the gradient obtained]\")\n",
        "\n",
        "print(\"Thus the gradient evaluated by our method matches the analytical solution\")"
      ],
      "metadata": {
        "colab": {
          "base_uri": "https://localhost:8080/"
        },
        "id": "ZqfGsvktJUXI",
        "outputId": "5a701734-6598-45ef-a988-211a3bd8f504"
      },
      "execution_count": 26,
      "outputs": [
        {
          "output_type": "stream",
          "name": "stdout",
          "text": [
            "Gradient of function with respect to x is: 4.566370964050293 and with respect to y is: 9.869604110717773 [Using Jax]\n",
            "Gradient of function with respect to x is: 4.566370964050293 and with respect to y is: 9.869604110717773 [By Manually putting values in the gradient obtained]\n",
            "Thus the gradient evaluated by our method matches the analytical solution\n"
          ]
        }
      ]
    },
    {
      "cell_type": "markdown",
      "source": [
        "Q6. Use sympy to confirm that you obtain the same gradient analytically."
      ],
      "metadata": {
        "id": "lSYrX7ElM7Ld"
      }
    },
    {
      "cell_type": "code",
      "source": [],
      "metadata": {
        "id": "kUg2hqTnNAb5"
      },
      "execution_count": null,
      "outputs": []
    },
    {
      "cell_type": "markdown",
      "source": [
        "Q12. Write a small piece of code to explain broadcasting in numpy."
      ],
      "metadata": {
        "id": "y8YldVbXKedD"
      }
    },
    {
      "cell_type": "code",
      "source": [
        "Vector_A = jnp.array([1,2,3,4,5])\n",
        "Vector_B = jnp.array([3])\n",
        "Vector_C = Vector_A + Vector_B\n",
        "print(Vector_C)\n",
        "print(f\"The shape of Vector A is {Vector_A.shape}, Vector B's shape is {Vector_B.shape} and their resultant shape is {Vector_C.shape}\")\n",
        "\n",
        "# Here despite the fact that Vector_A is a 1X5 dimension array still when added with an array of 1X1 dimension\n",
        "# it broadcasts the smaller array to the size of the larger array so that addition can take place to get final result as 5X1 array"
      ],
      "metadata": {
        "colab": {
          "base_uri": "https://localhost:8080/"
        },
        "id": "rcTOdfv6CEUU",
        "outputId": "5c70d228-527f-45d8-fdeb-41be176ca069"
      },
      "execution_count": 9,
      "outputs": [
        {
          "output_type": "stream",
          "name": "stdout",
          "text": [
            "[4 5 6 7 8]\n",
            "The shape of Vector A is (5,), Vector B's shape is (1,) and their resultant shape is (5,)\n"
          ]
        }
      ]
    },
    {
      "cell_type": "markdown",
      "source": [
        "Q13. Write a function to compute the argmin of a numpy array. The function should take a numpy array as input and return the index of the minimum element. You can use the np.argmin function to verify your solution."
      ],
      "metadata": {
        "id": "wSbCnXMvEp6p"
      }
    },
    {
      "cell_type": "code",
      "source": [
        "def argmin(array):\n",
        "  min_index=0\n",
        "  min_element=array[0]\n",
        "  for current_index in range(array.size):\n",
        "    if(min_element>array[current_index]):\n",
        "      min_element=array[current_index]\n",
        "      min_index=current_index\n",
        "  return min_index"
      ],
      "metadata": {
        "id": "O4wKVpMeEusM"
      },
      "execution_count": 12,
      "outputs": []
    },
    {
      "cell_type": "code",
      "source": [
        "a = jnp.array([2,3,41,0,10,3])\n",
        "print(argmin(a),np.argmin(a))\n",
        "# The implementation done for the argmin function works perfectly as the result matches with the inbuilt function\n",
        "# as indeed the lowest element is at index 3"
      ],
      "metadata": {
        "colab": {
          "base_uri": "https://localhost:8080/"
        },
        "id": "d3Er2Z_6FgUn",
        "outputId": "ae2edde6-2541-4639-ea2c-78b8a90f2365"
      },
      "execution_count": 17,
      "outputs": [
        {
          "output_type": "stream",
          "name": "stdout",
          "text": [
            "3 3\n"
          ]
        }
      ]
    }
  ]
}